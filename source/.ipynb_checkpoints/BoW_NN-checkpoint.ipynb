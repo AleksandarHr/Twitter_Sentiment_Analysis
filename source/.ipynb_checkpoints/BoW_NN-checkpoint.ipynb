{
 "cells": [
  {
   "cell_type": "code",
   "execution_count": 261,
   "metadata": {},
   "outputs": [],
   "source": [
    "import torch\n",
    "import torch.nn as nn\n",
    "import torch.nn.functional as F\n",
    "import torch.optim as optim\n",
    "from sklearn.model_selection import train_test_split, GridSearchCV"
   ]
  },
  {
   "cell_type": "code",
   "execution_count": 262,
   "metadata": {},
   "outputs": [],
   "source": [
    "train_neg = pd.read_fwf('../Data/train_neg.txt', header=None, names=['tweet'])\n",
    "train_pos = pd.read_fwf('../Data/train_pos.txt', header=None, names=['tweet'])\n",
    "test = pd.read_csv('../Data/test_data.txt', sep='\\n', header=None, names=['tweet'])\n",
    "test['tweet-id'] = test.tweet.apply(lambda x: x.split(',')[0])\n",
    "test['tweet'] = test.tweet.apply(lambda x: ' '.join(x.split(',')[1:]))\n",
    "test = test.set_index('tweet-id')"
   ]
  },
  {
   "cell_type": "code",
   "execution_count": 263,
   "metadata": {},
   "outputs": [],
   "source": [
    "preprocessor = PreProcessing()\n",
    "# Clean the tweets\n",
    "train_pos_clean = train_pos.copy()\n",
    "train_neg_clean = train_neg.copy()\n",
    "test_clean = test.copy()\n",
    "train_pos_clean['tweet'] = train_pos_clean.tweet.apply(lambda x: preprocessor.clean(x))\n",
    "train_neg_clean['tweet'] = train_neg_clean.tweet.apply(lambda x: preprocessor.clean(x))\n",
    "test_clean['tweet'] = test_clean.tweet.apply(lambda x: preprocessor.clean(x))"
   ]
  },
  {
   "cell_type": "code",
   "execution_count": 264,
   "metadata": {},
   "outputs": [],
   "source": [
    "train_pos_clean['sentiment'] = 1\n",
    "train_neg_clean['sentiment'] = 0"
   ]
  },
  {
   "cell_type": "code",
   "execution_count": 265,
   "metadata": {},
   "outputs": [],
   "source": [
    "def word_to_index(tweets):\n",
    "    word_indexer = {}\n",
    "    tweets = tweets['tweet']\n",
    "    for tweet in tweets:\n",
    "        tweet = tweet.split(' ')\n",
    "        for word in tweet:\n",
    "            if word not in word_indexer:\n",
    "                word_indexer[word] = len(word_indexer)\n",
    "    \n",
    "    vocab_size = len(word_indexer)\n",
    "    return word_indexer, vocab_size"
   ]
  },
  {
   "cell_type": "code",
   "execution_count": 266,
   "metadata": {},
   "outputs": [],
   "source": [
    "def make_bow_vector(tweet, word_indexer):\n",
    "    vec = torch.zeros(len(word_indexer))\n",
    "    #tweet = tweet['tweet']\n",
    "    tweet = tweet.split(' ')\n",
    "    for word in tweet:\n",
    "        vec[word_indexer[word]] += 1\n",
    "    return vec.view(1, -1)\n",
    "\n",
    "def make_target(label, label_indexer):\n",
    "    return torch.LongTensor([label])"
   ]
  },
  {
   "cell_type": "code",
   "execution_count": 267,
   "metadata": {},
   "outputs": [],
   "source": [
    "class BagOfWordsClassifier(nn.Module):\n",
    "    def __init__(self, num_labels, vocab_size):\n",
    "        \n",
    "        super(BagOfWordsClassifier, self).__init__()\n",
    "\n",
    "        # Define the parameters that you will need.  In this case, we need A and b,\n",
    "        # the parameters of the affine mapping.\n",
    "        # Torch defines nn.Linear(), which provides the affine map.\n",
    "        # Make sure you understand why the input dimension is vocab_size\n",
    "        # and the output is num_labels!\n",
    "        self.linear = nn.Linear(vocab_size, num_labels)\n",
    "\n",
    "    def forward(self, bow_vec):\n",
    "        # Pass the input through the linear layer,\n",
    "        # then pass that through log_softmax.\n",
    "        # Many non-linearities and other functions are in torch.nn.functional\n",
    "        return F.log_softmax(self.linear(bow_vec), dim=1)"
   ]
  },
  {
   "cell_type": "code",
   "execution_count": 268,
   "metadata": {},
   "outputs": [],
   "source": [
    "num_labels = 2\n",
    "full_data = pd.concat([train_pos_clean[['tweet', 'sentiment']], train_neg_clean[['tweet', 'sentiment']]], ignore_index=True)\n",
    "word_indexer, vocab_size = word_to_index(full_data)\n"
   ]
  },
  {
   "cell_type": "code",
   "execution_count": 269,
   "metadata": {},
   "outputs": [
    {
     "name": "stdout",
     "output_type": "stream",
     "text": [
      "Parameter containing:\n",
      "tensor([[ 2.5242e-03,  4.4924e-04, -1.2654e-04,  ...,  3.1640e-03,\n",
      "          3.1565e-03, -5.5773e-04],\n",
      "        [ 2.4722e-03, -2.5690e-03, -3.3875e-03,  ..., -1.2283e-03,\n",
      "          7.4937e-05,  2.7759e-03]], requires_grad=True)\n",
      "Parameter containing:\n",
      "tensor([-0.0032,  0.0020], requires_grad=True)\n"
     ]
    },
    {
     "ename": "AttributeError",
     "evalue": "'Series' object has no attribute 'split'",
     "output_type": "error",
     "traceback": [
      "\u001b[1;31m---------------------------------------------------------------------------\u001b[0m",
      "\u001b[1;31mAttributeError\u001b[0m                            Traceback (most recent call last)",
      "\u001b[1;32m<ipython-input-269-1abd2b20ed06>\u001b[0m in \u001b[0;36m<module>\u001b[1;34m\u001b[0m\n\u001b[0;32m     14\u001b[0m \u001b[1;32mwith\u001b[0m \u001b[0mtorch\u001b[0m\u001b[1;33m.\u001b[0m\u001b[0mno_grad\u001b[0m\u001b[1;33m(\u001b[0m\u001b[1;33m)\u001b[0m\u001b[1;33m:\u001b[0m\u001b[1;33m\u001b[0m\u001b[0m\n\u001b[0;32m     15\u001b[0m     \u001b[0msample\u001b[0m \u001b[1;33m=\u001b[0m \u001b[0mfull_data\u001b[0m\u001b[1;33m.\u001b[0m\u001b[0miloc\u001b[0m\u001b[1;33m[\u001b[0m\u001b[1;36m0\u001b[0m\u001b[1;33m]\u001b[0m\u001b[1;33m\u001b[0m\u001b[0m\n\u001b[1;32m---> 16\u001b[1;33m     \u001b[0mbow_vector\u001b[0m \u001b[1;33m=\u001b[0m \u001b[0mmake_bow_vector\u001b[0m\u001b[1;33m(\u001b[0m\u001b[0msample\u001b[0m\u001b[1;33m,\u001b[0m \u001b[0mword_indexer\u001b[0m\u001b[1;33m)\u001b[0m\u001b[1;33m\u001b[0m\u001b[0m\n\u001b[0m\u001b[0;32m     17\u001b[0m     \u001b[0mlog_probs\u001b[0m \u001b[1;33m=\u001b[0m \u001b[0mmodel\u001b[0m\u001b[1;33m(\u001b[0m\u001b[0mbow_vector\u001b[0m\u001b[1;33m)\u001b[0m\u001b[1;33m\u001b[0m\u001b[0m\n\u001b[0;32m     18\u001b[0m     \u001b[0mprint\u001b[0m\u001b[1;33m(\u001b[0m\u001b[0mlog_probs\u001b[0m\u001b[1;33m)\u001b[0m\u001b[1;33m\u001b[0m\u001b[0m\n",
      "\u001b[1;32m<ipython-input-266-467a014ff269>\u001b[0m in \u001b[0;36mmake_bow_vector\u001b[1;34m(tweet, word_indexer)\u001b[0m\n\u001b[0;32m      2\u001b[0m     \u001b[0mvec\u001b[0m \u001b[1;33m=\u001b[0m \u001b[0mtorch\u001b[0m\u001b[1;33m.\u001b[0m\u001b[0mzeros\u001b[0m\u001b[1;33m(\u001b[0m\u001b[0mlen\u001b[0m\u001b[1;33m(\u001b[0m\u001b[0mword_indexer\u001b[0m\u001b[1;33m)\u001b[0m\u001b[1;33m)\u001b[0m\u001b[1;33m\u001b[0m\u001b[0m\n\u001b[0;32m      3\u001b[0m     \u001b[1;31m#tweet = tweet['tweet']\u001b[0m\u001b[1;33m\u001b[0m\u001b[1;33m\u001b[0m\u001b[0m\n\u001b[1;32m----> 4\u001b[1;33m     \u001b[0mtweet\u001b[0m \u001b[1;33m=\u001b[0m \u001b[0mtweet\u001b[0m\u001b[1;33m.\u001b[0m\u001b[0msplit\u001b[0m\u001b[1;33m(\u001b[0m\u001b[1;34m' '\u001b[0m\u001b[1;33m)\u001b[0m\u001b[1;33m\u001b[0m\u001b[0m\n\u001b[0m\u001b[0;32m      5\u001b[0m     \u001b[1;32mfor\u001b[0m \u001b[0mword\u001b[0m \u001b[1;32min\u001b[0m \u001b[0mtweet\u001b[0m\u001b[1;33m:\u001b[0m\u001b[1;33m\u001b[0m\u001b[0m\n\u001b[0;32m      6\u001b[0m         \u001b[0mvec\u001b[0m\u001b[1;33m[\u001b[0m\u001b[0mword_indexer\u001b[0m\u001b[1;33m[\u001b[0m\u001b[0mword\u001b[0m\u001b[1;33m]\u001b[0m\u001b[1;33m]\u001b[0m \u001b[1;33m+=\u001b[0m \u001b[1;36m1\u001b[0m\u001b[1;33m\u001b[0m\u001b[0m\n",
      "\u001b[1;32mD:\\Software\\Anaconda\\envs\\project2\\lib\\site-packages\\pandas\\core\\generic.py\u001b[0m in \u001b[0;36m__getattr__\u001b[1;34m(self, name)\u001b[0m\n\u001b[0;32m   5177\u001b[0m             \u001b[1;32mif\u001b[0m \u001b[0mself\u001b[0m\u001b[1;33m.\u001b[0m\u001b[0m_info_axis\u001b[0m\u001b[1;33m.\u001b[0m\u001b[0m_can_hold_identifiers_and_holds_name\u001b[0m\u001b[1;33m(\u001b[0m\u001b[0mname\u001b[0m\u001b[1;33m)\u001b[0m\u001b[1;33m:\u001b[0m\u001b[1;33m\u001b[0m\u001b[0m\n\u001b[0;32m   5178\u001b[0m                 \u001b[1;32mreturn\u001b[0m \u001b[0mself\u001b[0m\u001b[1;33m[\u001b[0m\u001b[0mname\u001b[0m\u001b[1;33m]\u001b[0m\u001b[1;33m\u001b[0m\u001b[0m\n\u001b[1;32m-> 5179\u001b[1;33m             \u001b[1;32mreturn\u001b[0m \u001b[0mobject\u001b[0m\u001b[1;33m.\u001b[0m\u001b[0m__getattribute__\u001b[0m\u001b[1;33m(\u001b[0m\u001b[0mself\u001b[0m\u001b[1;33m,\u001b[0m \u001b[0mname\u001b[0m\u001b[1;33m)\u001b[0m\u001b[1;33m\u001b[0m\u001b[0m\n\u001b[0m\u001b[0;32m   5180\u001b[0m \u001b[1;33m\u001b[0m\u001b[0m\n\u001b[0;32m   5181\u001b[0m     \u001b[1;32mdef\u001b[0m \u001b[0m__setattr__\u001b[0m\u001b[1;33m(\u001b[0m\u001b[0mself\u001b[0m\u001b[1;33m,\u001b[0m \u001b[0mname\u001b[0m\u001b[1;33m,\u001b[0m \u001b[0mvalue\u001b[0m\u001b[1;33m)\u001b[0m\u001b[1;33m:\u001b[0m\u001b[1;33m\u001b[0m\u001b[0m\n",
      "\u001b[1;31mAttributeError\u001b[0m: 'Series' object has no attribute 'split'"
     ]
    }
   ],
   "source": [
    "model = BagOfWordsClassifier(2, vocab_size)\n",
    "\n",
    "# the model knows its parameters.  The first output below is A, the second is b.\n",
    "# Whenever you assign a component to a class variable in the __init__ function\n",
    "# of a module, which was done with the line\n",
    "# self.linear = nn.Linear(...)\n",
    "# Then through some Python magic from the PyTorch devs, your module\n",
    "# (in this case, BoWClassifier) will store knowledge of the nn.Linear's parameters\n",
    "for param in model.parameters():\n",
    "    print(param)\n",
    "\n",
    "# To run the model, pass in a BoW vector\n",
    "# Here we don't need to train, so the code is wrapped in torch.no_grad()\n",
    "with torch.no_grad():\n",
    "    sample = full_data.iloc[0]\n",
    "    bow_vector = make_bow_vector(sample, word_indexer)\n",
    "    log_probs = model(bow_vector)\n",
    "    print(log_probs)"
   ]
  },
  {
   "cell_type": "code",
   "execution_count": 270,
   "metadata": {},
   "outputs": [],
   "source": [
    "label_indexer = {0: \"Negative\", 1: \"Positive\"}"
   ]
  },
  {
   "cell_type": "code",
   "execution_count": 271,
   "metadata": {},
   "outputs": [],
   "source": [
    "X = full_data['tweet']\n",
    "y = full_data['sentiment']\n",
    "X_train, X_test, y_train, y_test = train_test_split(X, y, test_size=0.2, random_state=1)\n",
    "train_data = dict(zip(X_train, y_train))\n",
    "test_data = dict(zip(X_test, y_test))"
   ]
  },
  {
   "cell_type": "code",
   "execution_count": 272,
   "metadata": {},
   "outputs": [
    {
     "name": "stdout",
     "output_type": "stream",
     "text": [
      "torch.Size([1, 83422])\n",
      "tensor([[0., 1., 0.,  ..., 0., 0., 0.]])\n",
      "torch.Size([1, 83422])\n",
      "tensor([[0., 1., 0.,  ..., 0., 0., 0.]])\n",
      "torch.Size([1, 83422])\n",
      "tensor([[0., 0., 0.,  ..., 0., 0., 0.]])\n",
      "torch.Size([1, 83422])\n",
      "tensor([[1., 0., 0.,  ..., 0., 0., 0.]])\n",
      "torch.Size([1, 83422])\n",
      "tensor([[1., 2., 0.,  ..., 0., 0., 0.]])\n",
      "torch.Size([1, 83422])\n",
      "tensor([[1., 0., 0.,  ..., 0., 0., 0.]])\n",
      "torch.Size([1, 83422])\n",
      "tensor([[1., 1., 0.,  ..., 0., 0., 0.]])\n",
      "torch.Size([1, 83422])\n",
      "tensor([[0., 0., 0.,  ..., 0., 0., 0.]])\n",
      "torch.Size([1, 83422])\n",
      "tensor([[1., 0., 0.,  ..., 0., 0., 0.]])\n",
      "torch.Size([1, 83422])\n",
      "tensor([[2., 0., 0.,  ..., 0., 0., 0.]])\n"
     ]
    }
   ],
   "source": [
    "with torch.no_grad():\n",
    "    pr = 0\n",
    "    for instance in test_data:\n",
    "        label = test_data[instance]\n",
    "        bow_vec = make_bow_vector(instance, word_indexer)\n",
    "        if pr < 10:\n",
    "            print(bow_vec.shape)\n",
    "            print(bow_vec)\n",
    "        log_probs = model(bow_vec)\n",
    "        pr = pr+1\n",
    "        #print(log_probs)"
   ]
  },
  {
   "cell_type": "code",
   "execution_count": 274,
   "metadata": {},
   "outputs": [
    {
     "name": "stdout",
     "output_type": "stream",
     "text": [
      "\n",
      "Positive?\n",
      "tensor([-0.0017, -0.0022], grad_fn=<SelectBackward>)\n",
      "tensor([0.0013, 0.0030], grad_fn=<SelectBackward>)\n",
      "tensor([-0.0031,  0.0002], grad_fn=<SelectBackward>)\n",
      "\n",
      "Negative?\n",
      "tensor([ 0.0023, -0.0011], grad_fn=<SelectBackward>)\n",
      "tensor([ 0.0010, -0.0003], grad_fn=<SelectBackward>)\n",
      "tensor([-0.0023,  0.0025], grad_fn=<SelectBackward>)\n",
      "\n",
      "Neutral?\n",
      "tensor([ 0.0013, -0.0008], grad_fn=<SelectBackward>)\n",
      "tensor([-0.0003, -0.0006], grad_fn=<SelectBackward>)\n",
      "tensor([ 0.0033, -0.0029], grad_fn=<SelectBackward>)\n"
     ]
    }
   ],
   "source": [
    "print(\"\\nPositive?\")\n",
    "print(next(model.parameters())[:, word_indexer[\"won\"]])\n",
    "print(next(model.parameters())[:, word_indexer[\"happy\"]])\n",
    "print(next(model.parameters())[:, word_indexer[\"hired\"]])\n",
    "\n",
    "print(\"\\nNegative?\")\n",
    "print(next(model.parameters())[:, word_indexer[\"fired\"]])\n",
    "print(next(model.parameters())[:, word_indexer[\"sad\"]])\n",
    "print(next(model.parameters())[:, word_indexer[\"lost\"]])\n",
    "\n",
    "print(\"\\nNeutral?\")\n",
    "print(next(model.parameters())[:, word_indexer[\"zuckerberg\"]])\n",
    "print(next(model.parameters())[:, word_indexer[\"house\"]])\n",
    "print(next(model.parameters())[:, word_indexer[\"blue\"]])"
   ]
  },
  {
   "cell_type": "code",
   "execution_count": 244,
   "metadata": {},
   "outputs": [
    {
     "name": "stdout",
     "output_type": "stream",
     "text": [
      "tensor([ 0.2455, -0.2432], grad_fn=<SelectBackward>)\n",
      "0\n",
      "1\n",
      "2\n",
      "tensor([ 0.2053, -0.2030], grad_fn=<SelectBackward>)\n"
     ]
    }
   ],
   "source": [
    "\n",
    "loss_function = nn.NLLLoss()\n",
    "optimizer = optim.SGD(model.parameters(), lr=0.1)\n",
    "\n",
    "# Usually you want to pass over the training data several times.\n",
    "# 100 is much bigger than on a real data set, but real datasets have more than\n",
    "# two instances.  Usually, somewhere between 5 and 30 epochs is reasonable.\n",
    "for epoch in range(2):\n",
    "    print(epoch)\n",
    "    for instance in train_data:\n",
    "        label = train_data[instance]\n",
    "        # Step 1. Remember that PyTorch accumulates gradients.\n",
    "        # We need to clear them out before each instance\n",
    "        model.zero_grad()\n",
    "\n",
    "        # Step 2. Make our BOW vector and also we must wrap the target in a\n",
    "        # Tensor as an integer. For example, if the target is SPANISH, then\n",
    "        # we wrap the integer 0. The loss function then knows that the 0th\n",
    "        # element of the log probabilities is the log probability\n",
    "        # corresponding to SPANISH\n",
    "        bow_vec = make_bow_vector(instance, word_indexer)\n",
    "        target = make_target(label, label_indexer)\n",
    "\n",
    "        # Step 3. Run our forward pass.\n",
    "        log_probs = model(bow_vec)\n",
    "\n",
    "        # Step 4. Compute the loss, gradients, and update the parameters by\n",
    "        # calling optimizer.step()\n",
    "        loss = loss_function(log_probs, target)\n",
    "        loss.backward()\n",
    "        optimizer.step()\n",
    "\n",
    "with torch.no_grad():\n",
    "    for instance in test_data:\n",
    "        label = test_data[instance]\n",
    "        bow_vec = make_bow_vector(instance, word_indexer)\n",
    "        log_probs = model(bow_vec)\n",
    "        #print(log_probs)\n",
    "        \n",
    "print(next(model.parameters())[:, word_indexer[\"cancer\"]])"
   ]
  },
  {
   "cell_type": "code",
   "execution_count": null,
   "metadata": {},
   "outputs": [],
   "source": []
  }
 ],
 "metadata": {
  "kernelspec": {
   "display_name": "PyTorch",
   "language": "python",
   "name": "project2"
  },
  "language_info": {
   "codemirror_mode": {
    "name": "ipython",
    "version": 3
   },
   "file_extension": ".py",
   "mimetype": "text/x-python",
   "name": "python",
   "nbconvert_exporter": "python",
   "pygments_lexer": "ipython3",
   "version": "3.6.5"
  }
 },
 "nbformat": 4,
 "nbformat_minor": 2
}
